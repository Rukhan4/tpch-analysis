{
 "cells": [
  {
   "cell_type": "code",
   "execution_count": 3,
   "id": "72304019",
   "metadata": {},
   "outputs": [
    {
     "name": "stdout",
     "output_type": "stream",
     "text": [
      "       name\n",
      "0    NATION\n",
      "1    REGION\n",
      "2      PART\n",
      "3  SUPPLIER\n",
      "4  PARTSUPP\n",
      "5  CUSTOMER\n",
      "6    ORDERS\n",
      "7  LINEITEM\n"
     ]
    }
   ],
   "source": [
    "import sqlite3\n",
    "import pandas as pd\n",
    "\n",
    "conn = sqlite3.connect(\"TPC-H-DB.db\")\n",
    "\n",
    "# Show all tables in the database\n",
    "tables = pd.read_sql(\"SELECT name FROM sqlite_master WHERE type='table';\", conn)\n",
    "print(tables)\n",
    "\n",
    "conn.close()\n"
   ]
  },
  {
   "cell_type": "code",
   "execution_count": 6,
   "id": "159fa57b",
   "metadata": {},
   "outputs": [
    {
     "name": "stdout",
     "output_type": "stream",
     "text": [
      "   order_count\n",
      "0        15000\n"
     ]
    }
   ],
   "source": [
    "def test(db_path, sql_query):\n",
    "    \"\"\"\n",
    "    Connects to SQLite database, runs a SQL query, and returns the results as a DataFrame.\n",
    "    \n",
    "    Args:\n",
    "        db_path (str): Path to the SQLite .db file.\n",
    "        sql_query (str): SQL query string to execute.\n",
    "        \n",
    "    Returns:\n",
    "        pd.DataFrame: Query results.\n",
    "    \"\"\"\n",
    "    try:\n",
    "        conn = sqlite3.connect(db_path)\n",
    "        df = pd.read_sql(sql_query, conn)\n",
    "        conn.close()\n",
    "        return df\n",
    "    except Exception as e:\n",
    "        print(f\"Error running query: {e}\")\n",
    "        return None\n",
    "\n",
    "# Example usage:\n",
    "if __name__ == \"__main__\":\n",
    "    db_file = \"TPC-H-DB.db\"\n",
    "    query = \"SELECT COUNT(*) AS order_count FROM orders;\"\n",
    "    result_df = test(db_file, query)\n",
    "    print(result_df)\n"
   ]
  }
 ],
 "metadata": {
  "kernelspec": {
   "display_name": "Python 3",
   "language": "python",
   "name": "python3"
  },
  "language_info": {
   "codemirror_mode": {
    "name": "ipython",
    "version": 3
   },
   "file_extension": ".py",
   "mimetype": "text/x-python",
   "name": "python",
   "nbconvert_exporter": "python",
   "pygments_lexer": "ipython3",
   "version": "3.13.2"
  }
 },
 "nbformat": 4,
 "nbformat_minor": 5
}
